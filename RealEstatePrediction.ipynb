{
 "cells": [
  {
   "cell_type": "markdown",
   "id": "ae6e24f6-216b-4108-b37c-3ebd1f3731c2",
   "metadata": {},
   "source": [
    "# Problem\n",
    "Can the sale amount for properties in Conneticut be predicted?\n",
    "\n",
    "Also, where are the best places to buy? Best places to sell? places with the best/worst sale ratios?\n",
    "\n",
    "Through understanding this dataset, real estate owners and sellers in Conneticut can make smart sales and purchases."
   ]
  },
  {
   "cell_type": "markdown",
   "id": "5af37252-79f5-4a1f-9ac5-dfa8fc8945f7",
   "metadata": {},
   "source": [
    "# Data Collection\n",
    "Data sourced from data.gov\n",
    "\n",
    "https://catalog.data.gov/dataset/real-estate-sales-2001-2018"
   ]
  },
  {
   "cell_type": "code",
   "execution_count": 1,
   "id": "234f35c1-f10d-44d1-bd3c-884c26362f74",
   "metadata": {},
   "outputs": [
    {
     "name": "stderr",
     "output_type": "stream",
     "text": [
      "C:\\Users\\jonah\\AppData\\Local\\Temp\\ipykernel_12092\\216775831.py:2: DtypeWarning: Columns (7,8,9,10,11,12) have mixed types. Specify dtype option on import or set low_memory=False.\n",
      "  df = pd.read_csv('Real_Estate_Sales_2001-2023_GL.csv')\n"
     ]
    }
   ],
   "source": [
    "import pandas as pd\n",
    "df = pd.read_csv('Real_Estate_Sales_2001-2023_GL.csv')"
   ]
  },
  {
   "cell_type": "markdown",
   "id": "0c28eb9e-b931-4b38-8a10-f2df18bc59a4",
   "metadata": {},
   "source": [
    "# Data Understanding"
   ]
  },
  {
   "cell_type": "code",
   "execution_count": 2,
   "id": "69bf668a-a4e3-4f08-ac2a-f78aa6d2e25f",
   "metadata": {},
   "outputs": [
    {
     "data": {
      "text/html": [
       "<div>\n",
       "<style scoped>\n",
       "    .dataframe tbody tr th:only-of-type {\n",
       "        vertical-align: middle;\n",
       "    }\n",
       "\n",
       "    .dataframe tbody tr th {\n",
       "        vertical-align: top;\n",
       "    }\n",
       "\n",
       "    .dataframe thead th {\n",
       "        text-align: right;\n",
       "    }\n",
       "</style>\n",
       "<table border=\"1\" class=\"dataframe\">\n",
       "  <thead>\n",
       "    <tr style=\"text-align: right;\">\n",
       "      <th></th>\n",
       "      <th>Serial Number</th>\n",
       "      <th>List Year</th>\n",
       "      <th>Date Recorded</th>\n",
       "      <th>Town</th>\n",
       "      <th>Address</th>\n",
       "      <th>Assessed Value</th>\n",
       "      <th>Sale Amount</th>\n",
       "      <th>Sales Ratio</th>\n",
       "      <th>Property Type</th>\n",
       "      <th>Residential Type</th>\n",
       "      <th>Non Use Code</th>\n",
       "      <th>Assessor Remarks</th>\n",
       "      <th>OPM remarks</th>\n",
       "      <th>Location</th>\n",
       "    </tr>\n",
       "  </thead>\n",
       "  <tbody>\n",
       "    <tr>\n",
       "      <th>0</th>\n",
       "      <td>2020177</td>\n",
       "      <td>2020</td>\n",
       "      <td>04/14/2021</td>\n",
       "      <td>Ansonia</td>\n",
       "      <td>323 BEAVER ST</td>\n",
       "      <td>133000.0</td>\n",
       "      <td>248400.0</td>\n",
       "      <td>0.5354</td>\n",
       "      <td>Residential</td>\n",
       "      <td>Single Family</td>\n",
       "      <td>NaN</td>\n",
       "      <td>NaN</td>\n",
       "      <td>NaN</td>\n",
       "      <td>POINT (-73.06822 41.35014)</td>\n",
       "    </tr>\n",
       "    <tr>\n",
       "      <th>1</th>\n",
       "      <td>2020225</td>\n",
       "      <td>2020</td>\n",
       "      <td>05/26/2021</td>\n",
       "      <td>Ansonia</td>\n",
       "      <td>152 JACKSON ST</td>\n",
       "      <td>110500.0</td>\n",
       "      <td>239900.0</td>\n",
       "      <td>0.4606</td>\n",
       "      <td>Residential</td>\n",
       "      <td>Three Family</td>\n",
       "      <td>NaN</td>\n",
       "      <td>NaN</td>\n",
       "      <td>NaN</td>\n",
       "      <td>NaN</td>\n",
       "    </tr>\n",
       "    <tr>\n",
       "      <th>2</th>\n",
       "      <td>2020348</td>\n",
       "      <td>2020</td>\n",
       "      <td>09/13/2021</td>\n",
       "      <td>Ansonia</td>\n",
       "      <td>230 WAKELEE AVE</td>\n",
       "      <td>150500.0</td>\n",
       "      <td>325000.0</td>\n",
       "      <td>0.463</td>\n",
       "      <td>Commercial</td>\n",
       "      <td>NaN</td>\n",
       "      <td>NaN</td>\n",
       "      <td>NaN</td>\n",
       "      <td>NaN</td>\n",
       "      <td>NaN</td>\n",
       "    </tr>\n",
       "    <tr>\n",
       "      <th>3</th>\n",
       "      <td>2020090</td>\n",
       "      <td>2020</td>\n",
       "      <td>12/14/2020</td>\n",
       "      <td>Ansonia</td>\n",
       "      <td>57 PLATT ST</td>\n",
       "      <td>127400.0</td>\n",
       "      <td>202500.0</td>\n",
       "      <td>0.6291</td>\n",
       "      <td>Residential</td>\n",
       "      <td>Two Family</td>\n",
       "      <td>NaN</td>\n",
       "      <td>NaN</td>\n",
       "      <td>NaN</td>\n",
       "      <td>NaN</td>\n",
       "    </tr>\n",
       "    <tr>\n",
       "      <th>4</th>\n",
       "      <td>210288</td>\n",
       "      <td>2021</td>\n",
       "      <td>06/20/2022</td>\n",
       "      <td>Avon</td>\n",
       "      <td>12 BYRON DRIVE</td>\n",
       "      <td>179990.0</td>\n",
       "      <td>362500.0</td>\n",
       "      <td>0.4965</td>\n",
       "      <td>Residential</td>\n",
       "      <td>Condo</td>\n",
       "      <td>NaN</td>\n",
       "      <td>NaN</td>\n",
       "      <td>NaN</td>\n",
       "      <td>POINT (-72.879115982 41.773452988)</td>\n",
       "    </tr>\n",
       "  </tbody>\n",
       "</table>\n",
       "</div>"
      ],
      "text/plain": [
       "   Serial Number  List Year Date Recorded     Town          Address  \\\n",
       "0        2020177       2020    04/14/2021  Ansonia    323 BEAVER ST   \n",
       "1        2020225       2020    05/26/2021  Ansonia   152 JACKSON ST   \n",
       "2        2020348       2020    09/13/2021  Ansonia  230 WAKELEE AVE   \n",
       "3        2020090       2020    12/14/2020  Ansonia      57 PLATT ST   \n",
       "4         210288       2021    06/20/2022     Avon   12 BYRON DRIVE   \n",
       "\n",
       "   Assessed Value  Sale Amount Sales Ratio Property Type Residential Type  \\\n",
       "0        133000.0     248400.0      0.5354   Residential    Single Family   \n",
       "1        110500.0     239900.0      0.4606   Residential     Three Family   \n",
       "2        150500.0     325000.0       0.463    Commercial              NaN   \n",
       "3        127400.0     202500.0      0.6291   Residential       Two Family   \n",
       "4        179990.0     362500.0      0.4965   Residential            Condo   \n",
       "\n",
       "  Non Use Code Assessor Remarks OPM remarks  \\\n",
       "0          NaN              NaN         NaN   \n",
       "1          NaN              NaN         NaN   \n",
       "2          NaN              NaN         NaN   \n",
       "3          NaN              NaN         NaN   \n",
       "4          NaN              NaN         NaN   \n",
       "\n",
       "                             Location  \n",
       "0          POINT (-73.06822 41.35014)  \n",
       "1                                 NaN  \n",
       "2                                 NaN  \n",
       "3                                 NaN  \n",
       "4  POINT (-72.879115982 41.773452988)  "
      ]
     },
     "execution_count": 2,
     "metadata": {},
     "output_type": "execute_result"
    }
   ],
   "source": [
    "df.head()"
   ]
  },
  {
   "cell_type": "code",
   "execution_count": 3,
   "id": "8aa17161-ef31-493c-b007-98dd7ae2bac9",
   "metadata": {},
   "outputs": [
    {
     "data": {
      "text/html": [
       "<div>\n",
       "<style scoped>\n",
       "    .dataframe tbody tr th:only-of-type {\n",
       "        vertical-align: middle;\n",
       "    }\n",
       "\n",
       "    .dataframe tbody tr th {\n",
       "        vertical-align: top;\n",
       "    }\n",
       "\n",
       "    .dataframe thead th {\n",
       "        text-align: right;\n",
       "    }\n",
       "</style>\n",
       "<table border=\"1\" class=\"dataframe\">\n",
       "  <thead>\n",
       "    <tr style=\"text-align: right;\">\n",
       "      <th></th>\n",
       "      <th>Serial Number</th>\n",
       "      <th>List Year</th>\n",
       "      <th>Date Recorded</th>\n",
       "      <th>Town</th>\n",
       "      <th>Address</th>\n",
       "      <th>Assessed Value</th>\n",
       "      <th>Sale Amount</th>\n",
       "      <th>Sales Ratio</th>\n",
       "      <th>Property Type</th>\n",
       "      <th>Residential Type</th>\n",
       "      <th>Non Use Code</th>\n",
       "      <th>Assessor Remarks</th>\n",
       "      <th>OPM remarks</th>\n",
       "      <th>Location</th>\n",
       "    </tr>\n",
       "  </thead>\n",
       "  <tbody>\n",
       "    <tr>\n",
       "      <th>1141717</th>\n",
       "      <td>230299</td>\n",
       "      <td>2023</td>\n",
       "      <td>04/19/2024</td>\n",
       "      <td>Southington</td>\n",
       "      <td>580-23 MERIDEN WATERBURY TPKE</td>\n",
       "      <td>26540.0</td>\n",
       "      <td>509900.0</td>\n",
       "      <td>0.0520</td>\n",
       "      <td>Residential</td>\n",
       "      <td>Condo</td>\n",
       "      <td>07 - Change in Property</td>\n",
       "      <td>NEW CONSTRUCTION OVER 55 CONDO</td>\n",
       "      <td>NaN</td>\n",
       "      <td>POINT (-72.86373 41.56032)</td>\n",
       "    </tr>\n",
       "    <tr>\n",
       "      <th>1141718</th>\n",
       "      <td>230568</td>\n",
       "      <td>2023</td>\n",
       "      <td>05/15/2024</td>\n",
       "      <td>West Haven</td>\n",
       "      <td>165 MILTON AVE</td>\n",
       "      <td>148050.0</td>\n",
       "      <td>400300.0</td>\n",
       "      <td>0.3698</td>\n",
       "      <td>Residential</td>\n",
       "      <td>Single Family</td>\n",
       "      <td>NaN</td>\n",
       "      <td>NaN</td>\n",
       "      <td>NaN</td>\n",
       "      <td>POINT (-72.97401 41.24665)</td>\n",
       "    </tr>\n",
       "    <tr>\n",
       "      <th>1141719</th>\n",
       "      <td>230217</td>\n",
       "      <td>2023</td>\n",
       "      <td>02/20/2024</td>\n",
       "      <td>Southington</td>\n",
       "      <td>242 LAZY LN</td>\n",
       "      <td>177340.0</td>\n",
       "      <td>334750.0</td>\n",
       "      <td>0.5297</td>\n",
       "      <td>Residential</td>\n",
       "      <td>Single Family</td>\n",
       "      <td>NaN</td>\n",
       "      <td>NaN</td>\n",
       "      <td>NaN</td>\n",
       "      <td>POINT (-72.88193 41.62094)</td>\n",
       "    </tr>\n",
       "    <tr>\n",
       "      <th>1141720</th>\n",
       "      <td>230097</td>\n",
       "      <td>2023</td>\n",
       "      <td>05/30/2024</td>\n",
       "      <td>Old Lyme</td>\n",
       "      <td>21 BUTTONBALL RD</td>\n",
       "      <td>8030.0</td>\n",
       "      <td>35000.0</td>\n",
       "      <td>0.2294</td>\n",
       "      <td>Vacant Land</td>\n",
       "      <td>NaN</td>\n",
       "      <td>NaN</td>\n",
       "      <td>DEVELOPERS LOT FOR NEW CONST</td>\n",
       "      <td>NaN</td>\n",
       "      <td>POINT (-72.30557 41.29054)</td>\n",
       "    </tr>\n",
       "    <tr>\n",
       "      <th>1141721</th>\n",
       "      <td>230383</td>\n",
       "      <td>2023</td>\n",
       "      <td>06/06/2024</td>\n",
       "      <td>Shelton</td>\n",
       "      <td>512 ANTELOPE TRL</td>\n",
       "      <td>306460.0</td>\n",
       "      <td>659813.0</td>\n",
       "      <td>0.4645</td>\n",
       "      <td>Residential</td>\n",
       "      <td>Condo</td>\n",
       "      <td>25 - Other</td>\n",
       "      <td>89 33 512</td>\n",
       "      <td>PER MLS CLOSING PRICE = $675,000</td>\n",
       "      <td>POINT (-73.13448 41.29345)</td>\n",
       "    </tr>\n",
       "  </tbody>\n",
       "</table>\n",
       "</div>"
      ],
      "text/plain": [
       "         Serial Number  List Year Date Recorded         Town  \\\n",
       "1141717         230299       2023    04/19/2024  Southington   \n",
       "1141718         230568       2023    05/15/2024   West Haven   \n",
       "1141719         230217       2023    02/20/2024  Southington   \n",
       "1141720         230097       2023    05/30/2024     Old Lyme   \n",
       "1141721         230383       2023    06/06/2024      Shelton   \n",
       "\n",
       "                               Address  Assessed Value  Sale Amount  \\\n",
       "1141717  580-23 MERIDEN WATERBURY TPKE         26540.0     509900.0   \n",
       "1141718                 165 MILTON AVE        148050.0     400300.0   \n",
       "1141719                    242 LAZY LN        177340.0     334750.0   \n",
       "1141720               21 BUTTONBALL RD          8030.0      35000.0   \n",
       "1141721               512 ANTELOPE TRL        306460.0     659813.0   \n",
       "\n",
       "        Sales Ratio Property Type Residential Type             Non Use Code  \\\n",
       "1141717      0.0520   Residential            Condo  07 - Change in Property   \n",
       "1141718      0.3698   Residential    Single Family                      NaN   \n",
       "1141719      0.5297   Residential    Single Family                      NaN   \n",
       "1141720      0.2294   Vacant Land              NaN                      NaN   \n",
       "1141721      0.4645   Residential            Condo               25 - Other   \n",
       "\n",
       "                       Assessor Remarks                       OPM remarks  \\\n",
       "1141717  NEW CONSTRUCTION OVER 55 CONDO                               NaN   \n",
       "1141718                             NaN                               NaN   \n",
       "1141719                             NaN                               NaN   \n",
       "1141720    DEVELOPERS LOT FOR NEW CONST                               NaN   \n",
       "1141721                       89 33 512  PER MLS CLOSING PRICE = $675,000   \n",
       "\n",
       "                           Location  \n",
       "1141717  POINT (-72.86373 41.56032)  \n",
       "1141718  POINT (-72.97401 41.24665)  \n",
       "1141719  POINT (-72.88193 41.62094)  \n",
       "1141720  POINT (-72.30557 41.29054)  \n",
       "1141721  POINT (-73.13448 41.29345)  "
      ]
     },
     "execution_count": 3,
     "metadata": {},
     "output_type": "execute_result"
    }
   ],
   "source": [
    "df.tail()"
   ]
  },
  {
   "cell_type": "code",
   "execution_count": 4,
   "id": "753c74d2-07e6-4ed3-96cb-883f7a84b14b",
   "metadata": {},
   "outputs": [
    {
     "data": {
      "text/plain": [
       "(1141722, 14)"
      ]
     },
     "execution_count": 4,
     "metadata": {},
     "output_type": "execute_result"
    }
   ],
   "source": [
    "df.shape"
   ]
  },
  {
   "cell_type": "code",
   "execution_count": 5,
   "id": "e29925f8-9e5e-42f3-b22e-0b3c004f64f8",
   "metadata": {},
   "outputs": [
    {
     "name": "stdout",
     "output_type": "stream",
     "text": [
      "<class 'pandas.core.frame.DataFrame'>\n",
      "RangeIndex: 1141722 entries, 0 to 1141721\n",
      "Data columns (total 14 columns):\n",
      " #   Column            Non-Null Count    Dtype  \n",
      "---  ------            --------------    -----  \n",
      " 0   Serial Number     1141722 non-null  int64  \n",
      " 1   List Year         1141722 non-null  int64  \n",
      " 2   Date Recorded     1141720 non-null  object \n",
      " 3   Town              1141722 non-null  object \n",
      " 4   Address           1141671 non-null  object \n",
      " 5   Assessed Value    1141722 non-null  float64\n",
      " 6   Sale Amount       1141722 non-null  float64\n",
      " 7   Sales Ratio       1141722 non-null  object \n",
      " 8   Property Type     759276 non-null   object \n",
      " 9   Residential Type  738804 non-null   object \n",
      " 10  Non Use Code      324807 non-null   object \n",
      " 11  Assessor Remarks  181090 non-null   object \n",
      " 12  OPM remarks       14346 non-null    object \n",
      " 13  Location          341241 non-null   object \n",
      "dtypes: float64(2), int64(2), object(10)\n",
      "memory usage: 121.9+ MB\n"
     ]
    }
   ],
   "source": [
    "df.info()"
   ]
  },
  {
   "cell_type": "code",
   "execution_count": 30,
   "id": "b5304928-b46c-4620-be8f-50b1ef2ce319",
   "metadata": {},
   "outputs": [
    {
     "name": "stdout",
     "output_type": "stream",
     "text": [
      "Null values:\n",
      "Serial Number: 0\n",
      "List Year: 0\n",
      "Date Recorded: 2\n",
      "Town: 0\n",
      "Address: 51\n",
      "Assessed Value: 0\n",
      "Sale Amount: 0\n",
      "Sales Ratio: 0\n",
      "Property Type: 382446\n",
      "Residential Type: 402918\n",
      "Non Use Code: 816915\n",
      "Assessor Remarks: 960632\n",
      "OPM remarks: 1127376\n",
      "Location: 800481\n"
     ]
    }
   ],
   "source": [
    "print('Null values:')\n",
    "for col in df.columns:\n",
    "    print(f'{col}: {df.shape[0]-df[col].count()}')"
   ]
  },
  {
   "cell_type": "markdown",
   "id": "94e0d892-84b9-4de7-ae6b-cf5868fda1dd",
   "metadata": {},
   "source": [
    "Values like Non Use Code, Assessor Remarks, OPM remarks, Location have over half of their entrances missing"
   ]
  },
  {
   "cell_type": "code",
   "execution_count": 32,
   "id": "4bd8b2da-2b78-4bc3-841a-6c16f1a7e797",
   "metadata": {},
   "outputs": [
    {
     "name": "stdout",
     "output_type": "stream",
     "text": [
      "Null values:\n",
      "Serial Number\n",
      "<class 'int'>    1141722\n",
      "Name: count, dtype: int64\n",
      "List Year\n",
      "<class 'int'>    1141722\n",
      "Name: count, dtype: int64\n",
      "Date Recorded\n",
      "<class 'str'>      1141720\n",
      "<class 'float'>          2\n",
      "Name: count, dtype: int64\n",
      "Town\n",
      "<class 'str'>    1141722\n",
      "Name: count, dtype: int64\n",
      "Address\n",
      "<class 'str'>      1141671\n",
      "<class 'float'>         51\n",
      "Name: count, dtype: int64\n",
      "Assessed Value\n",
      "<class 'float'>    1141722\n",
      "Name: count, dtype: int64\n",
      "Sale Amount\n",
      "<class 'float'>    1141722\n",
      "Name: count, dtype: int64\n",
      "Sales Ratio\n",
      "<class 'float'>    1141722\n",
      "Name: count, dtype: int64\n",
      "Property Type\n",
      "<class 'str'>      759276\n",
      "<class 'float'>    382446\n",
      "Name: count, dtype: int64\n",
      "Residential Type\n",
      "<class 'str'>      738804\n",
      "<class 'float'>    402918\n",
      "Name: count, dtype: int64\n",
      "Non Use Code\n",
      "<class 'float'>    862445\n",
      "<class 'str'>      279277\n",
      "Name: count, dtype: int64\n",
      "Assessor Remarks\n",
      "<class 'float'>    960632\n",
      "<class 'str'>      181090\n",
      "Name: count, dtype: int64\n",
      "OPM remarks\n",
      "<class 'float'>    1127376\n",
      "<class 'str'>        14346\n",
      "Name: count, dtype: int64\n",
      "Location\n",
      "<class 'float'>    800481\n",
      "<class 'str'>      341241\n",
      "Name: count, dtype: int64\n"
     ]
    }
   ],
   "source": [
    "print('Null values:')\n",
    "for col in df.columns:\n",
    "    print(f'{df[col].apply(type).value_counts()}')"
   ]
  },
  {
   "cell_type": "markdown",
   "id": "96101836-511d-4712-9a2a-feed480a5113",
   "metadata": {},
   "source": [
    "# Preprocessing"
   ]
  },
  {
   "cell_type": "markdown",
   "id": "efe9e303-d355-4465-949d-a93312002ce7",
   "metadata": {},
   "source": [
    "## Data Cleaning"
   ]
  },
  {
   "cell_type": "markdown",
   "id": "39a80723-9a8c-479d-a2f4-a5c3c1bc4ecf",
   "metadata": {},
   "source": [
    "Sales Ratio should contain only floats, but df.info() shows it to have an object Dtype. Why is this?"
   ]
  },
  {
   "cell_type": "code",
   "execution_count": 6,
   "id": "8cdda6bc-d316-4e56-9f61-8c6aa8375270",
   "metadata": {},
   "outputs": [
    {
     "data": {
      "text/plain": [
       "Sales Ratio\n",
       "<class 'float'>    1114112\n",
       "<class 'str'>        27610\n",
       "Name: count, dtype: int64"
      ]
     },
     "execution_count": 6,
     "metadata": {},
     "output_type": "execute_result"
    }
   ],
   "source": [
    "df['Sales Ratio'].apply(type).value_counts()"
   ]
  },
  {
   "cell_type": "markdown",
   "id": "a378095f-024b-49eb-8d41-b210d1d89ce0",
   "metadata": {},
   "source": [
    "Since this column contains floats and strings, we need to convert all of the strings to floats"
   ]
  },
  {
   "cell_type": "code",
   "execution_count": 7,
   "id": "d5254941-a63d-4733-afec-929e9d111f26",
   "metadata": {},
   "outputs": [
    {
     "name": "stdout",
     "output_type": "stream",
     "text": [
      "1,787.3333\n"
     ]
    },
    {
     "data": {
      "text/plain": [
       "Sales Ratio\n",
       "True     27609\n",
       "False        1\n",
       "Name: count, dtype: int64"
      ]
     },
     "execution_count": 7,
     "metadata": {},
     "output_type": "execute_result"
    }
   ],
   "source": [
    "def is_float(x):\n",
    "    try:\n",
    "        float(x)\n",
    "        return True\n",
    "    except:\n",
    "        print(x)\n",
    "        return False\n",
    "sales_ratio_strings = df['Sales Ratio'][df['Sales Ratio'].apply(lambda x: not isinstance(x, float))]\n",
    "sales_ratio_strings.apply(is_float).value_counts()"
   ]
  },
  {
   "cell_type": "markdown",
   "id": "a4ba60fb-60fc-4999-ab66-9cbdfc84279c",
   "metadata": {},
   "source": [
    "Of all the strings in df['Sales Ratio'], there is only one which cannot be converted to a float, so we can fix this individual datapoint.\n",
    "\n",
    "Now every element in df['Sales Ratio'] is a float"
   ]
  },
  {
   "cell_type": "code",
   "execution_count": 8,
   "id": "20e0ddaa-725e-4c0c-b0be-2bac65f47b96",
   "metadata": {},
   "outputs": [
    {
     "data": {
      "text/plain": [
       "Sales Ratio\n",
       "<class 'float'>    1141722\n",
       "Name: count, dtype: int64"
      ]
     },
     "execution_count": 8,
     "metadata": {},
     "output_type": "execute_result"
    }
   ],
   "source": [
    "df['Sales Ratio'] = df['Sales Ratio'].replace('1,787.3333','1787.3333')\n",
    "df['Sales Ratio'] = pd.to_numeric(df['Sales Ratio'])\n",
    "df['Sales Ratio'].apply(type).value_counts()"
   ]
  },
  {
   "cell_type": "code",
   "execution_count": null,
   "id": "8f170e8f-ba1d-4b4b-bf20-d736fe665a80",
   "metadata": {},
   "outputs": [],
   "source": []
  },
  {
   "cell_type": "markdown",
   "id": "57c6eac1-a80f-43e7-a1c0-738616aebcd8",
   "metadata": {},
   "source": [
    "# Model Planning"
   ]
  },
  {
   "cell_type": "markdown",
   "id": "744dd21f-acf9-4f54-998d-36359a94c179",
   "metadata": {},
   "source": [
    "# Model Building"
   ]
  },
  {
   "cell_type": "code",
   "execution_count": null,
   "id": "b50a40d2-a031-42ea-8474-521d49a3e73c",
   "metadata": {},
   "outputs": [],
   "source": []
  },
  {
   "cell_type": "markdown",
   "id": "5ab1cfd2-0d45-4366-96bd-43dd6fcb60be",
   "metadata": {},
   "source": [
    "# Results"
   ]
  },
  {
   "cell_type": "code",
   "execution_count": null,
   "id": "1b56ee81-d8da-4e07-9f9a-6d2741828104",
   "metadata": {},
   "outputs": [],
   "source": []
  }
 ],
 "metadata": {
  "kernelspec": {
   "display_name": "Python [conda env:base] *",
   "language": "python",
   "name": "conda-base-py"
  },
  "language_info": {
   "codemirror_mode": {
    "name": "ipython",
    "version": 3
   },
   "file_extension": ".py",
   "mimetype": "text/x-python",
   "name": "python",
   "nbconvert_exporter": "python",
   "pygments_lexer": "ipython3",
   "version": "3.13.5"
  }
 },
 "nbformat": 4,
 "nbformat_minor": 5
}
